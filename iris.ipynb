{
 "cells": [
  {
   "cell_type": "markdown",
   "metadata": {},
   "source": [
    "# The Iris Project\n",
    "___\n",
    "\n",
    "Feito por:\n",
    "\n",
    "- Rafael Almada\n",
    "\n",
    "- Rafael Rosensvaig\n",
    "\n",
    "Projeto de Visão Computacional $\\sim$\n",
    "Engenharia da Computação $\\sim$\n",
    "Insper"
   ]
  },
  {
   "cell_type": "code",
   "execution_count": 1,
   "metadata": {},
   "outputs": [],
   "source": [
    "try:\n",
    "    import G6_iris_recognition\n",
    "except:\n",
    "    !pip install G6-iris-recognition\n",
    "    import G6_iris_recognition"
   ]
  },
  {
   "cell_type": "code",
   "execution_count": null,
   "metadata": {},
   "outputs": [],
   "source": []
  }
 ],
 "metadata": {
  "kernelspec": {
   "display_name": "Python 3",
   "language": "python",
   "name": "python3"
  },
  "language_info": {
   "codemirror_mode": {
    "name": "ipython",
    "version": 3
   },
   "file_extension": ".py",
   "mimetype": "text/x-python",
   "name": "python",
   "nbconvert_exporter": "python",
   "pygments_lexer": "ipython3",
   "version": "3.8.5"
  }
 },
 "nbformat": 4,
 "nbformat_minor": 4
}
